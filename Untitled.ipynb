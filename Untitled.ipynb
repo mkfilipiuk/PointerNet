{
 "cells": [
  {
   "cell_type": "code",
   "execution_count": 1,
   "id": "5f4d615d-34ef-4bdd-84ce-de5d94e24a30",
   "metadata": {},
   "outputs": [],
   "source": [
    "%load_ext autoreload\n",
    "%autoreload 2"
   ]
  },
  {
   "cell_type": "code",
   "execution_count": 2,
   "id": "099495bd-9007-4ba3-959c-03750aa73e88",
   "metadata": {},
   "outputs": [
    {
     "name": "stderr",
     "output_type": "stream",
     "text": [
      "/home/mf385423/miniconda3/lib/python3.9/site-packages/tqdm/auto.py:22: TqdmWarning: IProgress not found. Please update jupyter and ipywidgets. See https://ipywidgets.readthedocs.io/en/stable/user_install.html\n",
      "  from .autonotebook import tqdm as notebook_tqdm\n"
     ]
    }
   ],
   "source": [
    "import os\n",
    "os.chdir(\"/home/mf385423/master-thesis\")\n",
    "os.environ['CUDA_LAUNCH_BLOCKING'] = '1'\n",
    "from collections import defaultdict\n",
    "\n",
    "import torch\n",
    "import torch.optim as optim\n",
    "import torch.backends.cudnn as cudnn\n",
    "from torch.autograd import Variable\n",
    "from torch.utils.data import DataLoader\n",
    "\n",
    "import numpy as np\n",
    "import argparse\n",
    "from tqdm import tqdm\n",
    "\n",
    "from models.PointerNet.PointerNet import PointerNet\n",
    "from models.PointerNet.CriticNet import CriticNet\n",
    "from models.PointerNet.Data_Generator import TSPDataset\n"
   ]
  },
  {
   "cell_type": "code",
   "execution_count": 3,
   "id": "1426f851-484a-4e74-aa34-ced5870ae929",
   "metadata": {},
   "outputs": [],
   "source": [
    "import numpy as np"
   ]
  },
  {
   "cell_type": "code",
   "execution_count": 4,
   "id": "5493bcec-31e9-4971-9aa0-42118ebcf73e",
   "metadata": {},
   "outputs": [],
   "source": [
    "from models.PointerNet.Data_Generator import TSPDataset"
   ]
  },
  {
   "cell_type": "code",
   "execution_count": 5,
   "id": "10d561c0-2882-4fcf-83ec-b598c07b899b",
   "metadata": {},
   "outputs": [],
   "source": [
    "import torch"
   ]
  },
  {
   "cell_type": "code",
   "execution_count": 6,
   "id": "56ab1667-0da7-40c9-8c2a-0e752b570764",
   "metadata": {},
   "outputs": [],
   "source": [
    "dataset = TSPDataset(\"data/validation/TSP\", [4,5,6,7,8,9,10], \"EUC_2D\", 10000)"
   ]
  },
  {
   "cell_type": "code",
   "execution_count": 7,
   "id": "13a48884-6567-4a1e-b3e6-2751ec606aa9",
   "metadata": {},
   "outputs": [],
   "source": [
    "from PointerNet import PointerNet"
   ]
  },
  {
   "cell_type": "code",
   "execution_count": 8,
   "id": "f92e3335-0565-4b1f-81be-ef9229b628b3",
   "metadata": {},
   "outputs": [],
   "source": [
    "model = PointerNet(128,128, glimpse_number=1, sampling=True)\n",
    "critic = CriticNet(128,128)\n",
    "# model = torch.load(\"checkpoints/ptrnet_model_ptrnet_uniform_train_low=5_train_high=36_train_size=100000_RLIN-74_best.pt\", map_location=torch.device('cpu'))\n",
    "# model.cuda()"
   ]
  },
  {
   "cell_type": "code",
   "execution_count": 65,
   "id": "98b34438-1bb1-4550-83bf-2506d7671bee",
   "metadata": {},
   "outputs": [],
   "source": [
    "d = dataset[[1,50002]]"
   ]
  },
  {
   "cell_type": "code",
   "execution_count": 66,
   "id": "ffa6e510-e11b-4e96-90e3-4a13cf13f4d9",
   "metadata": {},
   "outputs": [
    {
     "data": {
      "text/plain": [
       "{'data': tensor([[[0.6178, 0.6874],\n",
       "          [0.7340, 0.8900],\n",
       "          [0.1935, 0.7409],\n",
       "          [0.3764, 0.7121],\n",
       "          [0.0000, 0.0000],\n",
       "          [0.0000, 0.0000],\n",
       "          [0.0000, 0.0000],\n",
       "          [0.0000, 0.0000],\n",
       "          [0.0000, 0.0000]],\n",
       " \n",
       "         [[0.7294, 0.5274],\n",
       "          [0.0116, 0.7632],\n",
       "          [0.5543, 0.5182],\n",
       "          [0.1011, 0.8808],\n",
       "          [0.2545, 0.6822],\n",
       "          [0.1448, 0.9831],\n",
       "          [0.5045, 0.3308],\n",
       "          [0.3016, 0.6101],\n",
       "          [0.9203, 0.7499]]]),\n",
       " 'sequence_length': tensor([4, 9], dtype=torch.int32),\n",
       " 'tour': tensor([[0, 3, 2, 1, 0, 0, 0, 0, 0],\n",
       "         [0, 8, 5, 3, 1, 4, 7, 6, 2]]),\n",
       " 'tour_length': tensor([1.2219, 2.4186], dtype=torch.float64),\n",
       " 'tour_ohe': tensor([[[1., 0., 0., 0., 0., 0., 0., 0., 0.],\n",
       "          [0., 0., 0., 1., 0., 0., 0., 0., 0.],\n",
       "          [0., 0., 1., 0., 0., 0., 0., 0., 0.],\n",
       "          [0., 1., 0., 0., 0., 0., 0., 0., 0.],\n",
       "          [0., 0., 0., 0., 0., 0., 0., 0., 0.],\n",
       "          [0., 0., 0., 0., 0., 0., 0., 0., 0.],\n",
       "          [0., 0., 0., 0., 0., 0., 0., 0., 0.],\n",
       "          [0., 0., 0., 0., 0., 0., 0., 0., 0.],\n",
       "          [0., 0., 0., 0., 0., 0., 0., 0., 0.]],\n",
       " \n",
       "         [[1., 0., 0., 0., 0., 0., 0., 0., 0.],\n",
       "          [0., 0., 0., 0., 0., 0., 0., 0., 1.],\n",
       "          [0., 0., 0., 0., 0., 1., 0., 0., 0.],\n",
       "          [0., 0., 0., 1., 0., 0., 0., 0., 0.],\n",
       "          [0., 1., 0., 0., 0., 0., 0., 0., 0.],\n",
       "          [0., 0., 0., 0., 1., 0., 0., 0., 0.],\n",
       "          [0., 0., 0., 0., 0., 0., 0., 1., 0.],\n",
       "          [0., 0., 0., 0., 0., 0., 1., 0., 0.],\n",
       "          [0., 0., 1., 0., 0., 0., 0., 0., 0.]]])}"
      ]
     },
     "execution_count": 66,
     "metadata": {},
     "output_type": "execute_result"
    }
   ],
   "source": [
    "d"
   ]
  },
  {
   "cell_type": "code",
   "execution_count": 67,
   "id": "54cbd0a6-c079-4f48-98d7-4559e3e1e9b3",
   "metadata": {},
   "outputs": [
    {
     "data": {
      "text/plain": [
       "tensor([0.6178, 0.8900, 0.1935, 0.7121, 0.0000, 0.0000, 0.0000, 0.0000, 0.0000,\n",
       "        0.7294, 0.7632, 0.5182, 0.1011, 0.6822, 0.1448, 0.5045, 0.6101, 0.9203])"
      ]
     },
     "execution_count": 67,
     "metadata": {},
     "output_type": "execute_result"
    }
   ],
   "source": [
    "d['data'][torch.arange(start=0, end=2, dtype=torch.long).reshape(2,1).repeat(1, 9).reshape(-1), torch.arange(start=0, end=9, dtype=torch.long).repeat(2), [0,1,0,1,0,1,0,1,0,0,1,1,0,1,0,0,1,0]]"
   ]
  },
  {
   "cell_type": "code",
   "execution_count": 68,
   "id": "2000e360-e7d5-4386-8514-1c393e2b1aec",
   "metadata": {},
   "outputs": [],
   "source": [
    "o, tour = model(d['data'], d['sequence_length'], 9)"
   ]
  },
  {
   "cell_type": "code",
   "execution_count": 70,
   "id": "470c4b6b-d032-48b7-a168-823fe8a781e0",
   "metadata": {},
   "outputs": [
    {
     "data": {
      "text/plain": [
       "tensor([[1, 2, 3, 0, 6, 0, 6, 3, 4],\n",
       "        [7, 6, 4, 0, 3, 8, 2, 1, 5]])"
      ]
     },
     "execution_count": 70,
     "metadata": {},
     "output_type": "execute_result"
    }
   ],
   "source": [
    "tour"
   ]
  },
  {
   "cell_type": "code",
   "execution_count": 77,
   "id": "f404f973-448c-4af3-a664-b8fb6251a057",
   "metadata": {},
   "outputs": [
    {
     "data": {
      "text/plain": [
       "tensor([[[0.2502, 0.2499, 0.2465, 0.2535, 0.0000, 0.0000, 0.0000, 0.0000,\n",
       "          0.0000],\n",
       "         [0.3335, 0.0000, 0.3285, 0.3380, 0.0000, 0.0000, 0.0000, 0.0000,\n",
       "          0.0000],\n",
       "         [0.4968, 0.0000, 0.0000, 0.5032, 0.0000, 0.0000, 0.0000, 0.0000,\n",
       "          0.0000],\n",
       "         [1.0000, 0.0000, 0.0000, 0.0000, 0.0000, 0.0000, 0.0000, 0.0000,\n",
       "          0.0000],\n",
       "         [0.1111, 0.1111, 0.1111, 0.1111, 0.1111, 0.1111, 0.1111, 0.1111,\n",
       "          0.1111],\n",
       "         [0.1111, 0.1111, 0.1111, 0.1111, 0.1111, 0.1111, 0.1111, 0.1111,\n",
       "          0.1111],\n",
       "         [0.1111, 0.1111, 0.1111, 0.1111, 0.1111, 0.1111, 0.1111, 0.1111,\n",
       "          0.1111],\n",
       "         [0.1111, 0.1111, 0.1111, 0.1111, 0.1111, 0.1111, 0.1111, 0.1111,\n",
       "          0.1111],\n",
       "         [0.1111, 0.1111, 0.1111, 0.1111, 0.1111, 0.1111, 0.1111, 0.1111,\n",
       "          0.1111]],\n",
       "\n",
       "        [[0.1077, 0.1070, 0.1135, 0.1097, 0.1106, 0.1086, 0.1149, 0.1137,\n",
       "          0.1143],\n",
       "         [0.1215, 0.1208, 0.1281, 0.1238, 0.1248, 0.1225, 0.1296, 0.0000,\n",
       "          0.1290],\n",
       "         [0.1396, 0.1387, 0.1471, 0.1422, 0.1434, 0.1408, 0.0000, 0.0000,\n",
       "          0.1482],\n",
       "         [0.1630, 0.1620, 0.1718, 0.1660, 0.0000, 0.1643, 0.0000, 0.0000,\n",
       "          0.1730],\n",
       "         [0.0000, 0.1935, 0.2052, 0.1983, 0.0000, 0.1964, 0.0000, 0.0000,\n",
       "          0.2067],\n",
       "         [0.0000, 0.2413, 0.2559, 0.0000, 0.0000, 0.2449, 0.0000, 0.0000,\n",
       "          0.2579],\n",
       "         [0.0000, 0.3252, 0.3448, 0.0000, 0.0000, 0.3299, 0.0000, 0.0000,\n",
       "          0.0000],\n",
       "         [0.0000, 0.4964, 0.0000, 0.0000, 0.0000, 0.5036, 0.0000, 0.0000,\n",
       "          0.0000],\n",
       "         [0.0000, 0.0000, 0.0000, 0.0000, 0.0000, 1.0000, 0.0000, 0.0000,\n",
       "          0.0000]]], grad_fn=<PermuteBackward0>)"
      ]
     },
     "execution_count": 77,
     "metadata": {},
     "output_type": "execute_result"
    }
   ],
   "source": [
    "o.permute(1,0,2)"
   ]
  },
  {
   "cell_type": "code",
   "execution_count": 89,
   "id": "b6ce99eb-5440-4b85-aaed-79e9d1be114f",
   "metadata": {},
   "outputs": [
    {
     "data": {
      "text/plain": [
       "tensor([4, 9], dtype=torch.int32)"
      ]
     },
     "execution_count": 89,
     "metadata": {},
     "output_type": "execute_result"
    }
   ],
   "source": [
    "d['sequence_length']"
   ]
  },
  {
   "cell_type": "code",
   "execution_count": 91,
   "id": "8c59c70e-511d-4ea2-bbc3-e64185c47cc8",
   "metadata": {},
   "outputs": [
    {
     "data": {
      "text/plain": [
       "tensor([[ -3.1866],\n",
       "        [-12.7124]], grad_fn=<GatherBackward0>)"
      ]
     },
     "execution_count": 91,
     "metadata": {},
     "output_type": "execute_result"
    }
   ],
   "source": [
    "torch.cumsum(torch.log(o.permute(1,0,2).gather(-1, tour.reshape(2,9,1))).reshape(2,9), -1).gather(-1, d['sequence_length'].reshape(2,1).long()-1) "
   ]
  },
  {
   "cell_type": "code",
   "execution_count": 61,
   "id": "4bc552ca-41e9-4a4a-8fbd-dfee66fa4b19",
   "metadata": {},
   "outputs": [
    {
     "data": {
      "text/plain": [
       "tensor([4.8797, 4.8432])"
      ]
     },
     "execution_count": 61,
     "metadata": {},
     "output_type": "execute_result"
    }
   ],
   "source": [
    "measure_tour_length(d['data'], tour)"
   ]
  },
  {
   "cell_type": "code",
   "execution_count": 62,
   "id": "1ba08c54-432b-4cf0-9bc1-b1d1f40867e8",
   "metadata": {},
   "outputs": [
    {
     "data": {
      "text/plain": [
       "tensor([4.8797, 4.8432])"
      ]
     },
     "execution_count": 62,
     "metadata": {},
     "output_type": "execute_result"
    }
   ],
   "source": [
    "measure_tour_length_padded(d['data'], tour, d['sequence_length'])"
   ]
  },
  {
   "cell_type": "code",
   "execution_count": 56,
   "id": "cf6b3692-ee6f-40a6-b702-37a1a551ee81",
   "metadata": {},
   "outputs": [],
   "source": [
    "def measure_tour_length(coordinates, tours):\n",
    "    return torch.sum(\n",
    "        torch.norm(\n",
    "            coordinates[\n",
    "                torch.arange(coordinates.shape[0]).unsqueeze(1), \n",
    "                torch.roll(tours, shifts=(0, 1), dims=(0, 1))\n",
    "            ] - \\\n",
    "            coordinates[\n",
    "                torch.arange(coordinates.shape[0]).unsqueeze(1), \n",
    "                tours\n",
    "            ], \n",
    "            dim=2\n",
    "        ),\n",
    "        dim=1\n",
    "    )\n",
    "\n",
    "def measure_tour_length_padded(coordinates, tours, lengths):\n",
    "    batch_size = coordinates.shape[0]\n",
    "    open_loop_length = torch.cumsum(\n",
    "        torch.norm(\n",
    "            coordinates[\n",
    "                torch.arange(batch_size).unsqueeze(1), \n",
    "                torch.roll(tours, shifts=(0, -1), dims=(0, 1))\n",
    "            ] - \\\n",
    "            coordinates[\n",
    "                torch.arange(batch_size).unsqueeze(1), \n",
    "                tours\n",
    "            ], \n",
    "            dim=2\n",
    "        ),\n",
    "        dim=1\n",
    "    )[torch.arange(start=0, end=batch_size, dtype=torch.long), lengths.long()-2]\n",
    "\n",
    "    start_coords = coordinates[torch.arange(start=0, end=batch_size, dtype=torch.long), tour.permute(1,0)[0]]\n",
    "    end_coords = coordinates[torch.arange(start=0, end=batch_size, dtype=torch.long), tour[torch.arange(start=0, end=batch_size, dtype=torch.long), (lengths-1).long()]]\n",
    "    closing = torch.norm(start_coords-end_coords, dim=1)\n",
    "    result =  open_loop_length + closing\n",
    "    return result"
   ]
  },
  {
   "cell_type": "code",
   "execution_count": 54,
   "id": "a66fc026-6524-4d3e-930b-77d093b6163a",
   "metadata": {},
   "outputs": [],
   "source": [
    "coordinates = d['data']\n",
    "tours = tour\n",
    "lengths = d['sequence_length']\n",
    "\n",
    "batch_size = coordinates.shape[0]\n",
    "open_loop_length = torch.cumsum(\n",
    "    torch.norm(\n",
    "        coordinates[\n",
    "            torch.arange(batch_size).unsqueeze(1), \n",
    "            torch.roll(tours, shifts=(0, -1), dims=(0, 1))\n",
    "        ] - \\\n",
    "        coordinates[\n",
    "            torch.arange(batch_size).unsqueeze(1), \n",
    "            tours\n",
    "        ], \n",
    "        dim=2\n",
    "    ),\n",
    "    dim=1\n",
    ")[torch.arange(start=0, end=batch_size, dtype=torch.long), lengths.long()-2]\n",
    "\n",
    "start_coords = coordinates[torch.arange(start=0, end=batch_size, dtype=torch.long), tour.permute(1,0)[0]]\n",
    "end_coords = coordinates[torch.arange(start=0, end=batch_size, dtype=torch.long), tour[torch.arange(start=0, end=batch_size, dtype=torch.long), (lengths-1).long()]]\n",
    "closing = torch.norm(start_coords-end_coords, dim=1)\n",
    "result =  open_loop_length + closing"
   ]
  },
  {
   "cell_type": "code",
   "execution_count": 55,
   "id": "ab2569ea-5874-4919-8591-dbf36ce31fc4",
   "metadata": {},
   "outputs": [
    {
     "data": {
      "text/plain": [
       "tensor([1.6303, 4.7224])"
      ]
     },
     "execution_count": 55,
     "metadata": {},
     "output_type": "execute_result"
    }
   ],
   "source": [
    "result"
   ]
  },
  {
   "cell_type": "code",
   "execution_count": 46,
   "id": "d3aad830-887c-44be-880e-745bb9da2bfc",
   "metadata": {},
   "outputs": [
    {
     "data": {
      "text/plain": [
       "tensor([[0.1935, 0.7409],\n",
       "        [0.5045, 0.3308]])"
      ]
     },
     "execution_count": 46,
     "metadata": {},
     "output_type": "execute_result"
    }
   ],
   "source": [
    "start_coords\n"
   ]
  },
  {
   "cell_type": "code",
   "execution_count": 47,
   "id": "f1aac4b0-9e08-47c9-a32f-f5361d8b9e73",
   "metadata": {},
   "outputs": [
    {
     "data": {
      "text/plain": [
       "tensor([[0.7340, 0.8900],\n",
       "        [0.3016, 0.6101]])"
      ]
     },
     "execution_count": 47,
     "metadata": {},
     "output_type": "execute_result"
    }
   ],
   "source": [
    "end_coords"
   ]
  },
  {
   "cell_type": "code",
   "execution_count": 53,
   "id": "0f6810af-75fc-47cc-a1d5-b33a72f5267a",
   "metadata": {},
   "outputs": [
    {
     "data": {
      "text/plain": [
       "tensor([[-0.5405, -0.1491],\n",
       "        [ 0.2029, -0.2792]])"
      ]
     },
     "execution_count": 53,
     "metadata": {},
     "output_type": "execute_result"
    }
   ],
   "source": [
    "start_coords-end_coords"
   ]
  },
  {
   "cell_type": "code",
   "execution_count": 52,
   "id": "338c1c6c-3b4f-4f3e-aa47-d2e2b9d92469",
   "metadata": {},
   "outputs": [
    {
     "data": {
      "text/plain": [
       "tensor([0.5606, 0.3451])"
      ]
     },
     "execution_count": 52,
     "metadata": {},
     "output_type": "execute_result"
    }
   ],
   "source": [
    "torch.norm(start_coords-end_coords, dim=1)"
   ]
  },
  {
   "cell_type": "code",
   "execution_count": 48,
   "id": "93b4e2f6-5f67-4393-b71d-4ddb8ea82fad",
   "metadata": {},
   "outputs": [
    {
     "data": {
      "text/plain": [
       "tensor([[2, 0, 3, 1, 4, 3, 5, 6, 0],\n",
       "        [6, 4, 5, 2, 0, 1, 8, 3, 7]])"
      ]
     },
     "execution_count": 48,
     "metadata": {},
     "output_type": "execute_result"
    }
   ],
   "source": [
    "tour"
   ]
  },
  {
   "cell_type": "code",
   "execution_count": 25,
   "id": "6ea22f74-d9a7-4983-ba2a-ad3b4489f816",
   "metadata": {},
   "outputs": [
    {
     "data": {
      "text/plain": [
       "tensor([[[0.6178, 0.6874],\n",
       "         [0.7340, 0.8900],\n",
       "         [0.1935, 0.7409],\n",
       "         [0.3764, 0.7121],\n",
       "         [0.0000, 0.0000],\n",
       "         [0.0000, 0.0000],\n",
       "         [0.0000, 0.0000],\n",
       "         [0.0000, 0.0000],\n",
       "         [0.0000, 0.0000]],\n",
       "\n",
       "        [[0.7294, 0.5274],\n",
       "         [0.0116, 0.7632],\n",
       "         [0.5543, 0.5182],\n",
       "         [0.1011, 0.8808],\n",
       "         [0.2545, 0.6822],\n",
       "         [0.1448, 0.9831],\n",
       "         [0.5045, 0.3308],\n",
       "         [0.3016, 0.6101],\n",
       "         [0.9203, 0.7499]]])"
      ]
     },
     "execution_count": 25,
     "metadata": {},
     "output_type": "execute_result"
    }
   ],
   "source": [
    "d['data']"
   ]
  },
  {
   "cell_type": "code",
   "execution_count": 33,
   "id": "33e72846-b3ae-41b7-b90b-5541a564cea3",
   "metadata": {},
   "outputs": [
    {
     "data": {
      "text/plain": [
       "tensor([[0.4276, 0.6702, 1.0696, 2.2232, 3.0287, 3.8342, 3.8342, 4.7584, 5.1860],\n",
       "        [0.4312, 0.7515, 1.3710, 1.5463, 2.3018, 3.2107, 4.0403, 4.3772, 4.7224]])"
      ]
     },
     "execution_count": 33,
     "metadata": {},
     "output_type": "execute_result"
    }
   ],
   "source": [
    "x"
   ]
  },
  {
   "cell_type": "code",
   "execution_count": 34,
   "id": "194099a6-75d5-40f8-a9bf-ac5ec038c005",
   "metadata": {},
   "outputs": [
    {
     "data": {
      "text/plain": [
       "tensor([1.0696, 4.3772])"
      ]
     },
     "execution_count": 34,
     "metadata": {},
     "output_type": "execute_result"
    }
   ],
   "source": [
    "x[torch.arange(start=0, end=2, dtype=torch.long), d['sequence_length'].long()-2]"
   ]
  },
  {
   "cell_type": "code",
   "execution_count": 14,
   "id": "9a69a1e0-35eb-4037-b4ec-5c562a171185",
   "metadata": {},
   "outputs": [
    {
     "data": {
      "text/plain": [
       "tensor([[[0.2502, 0.2499, 0.2465, 0.2535, 0.0000, 0.0000, 0.0000, 0.0000,\n",
       "          0.0000],\n",
       "         [0.3320, 0.3316, 0.0000, 0.3364, 0.0000, 0.0000, 0.0000, 0.0000,\n",
       "          0.0000],\n",
       "         [0.0000, 0.4963, 0.0000, 0.5037, 0.0000, 0.0000, 0.0000, 0.0000,\n",
       "          0.0000],\n",
       "         [0.0000, 1.0000, 0.0000, 0.0000, 0.0000, 0.0000, 0.0000, 0.0000,\n",
       "          0.0000],\n",
       "         [0.1111, 0.1111, 0.1111, 0.1111, 0.1111, 0.1111, 0.1111, 0.1111,\n",
       "          0.1111],\n",
       "         [0.1111, 0.1111, 0.1111, 0.1111, 0.1111, 0.1111, 0.1111, 0.1111,\n",
       "          0.1111],\n",
       "         [0.1111, 0.1111, 0.1111, 0.1111, 0.1111, 0.1111, 0.1111, 0.1111,\n",
       "          0.1111],\n",
       "         [0.1111, 0.1111, 0.1111, 0.1111, 0.1111, 0.1111, 0.1111, 0.1111,\n",
       "          0.1111],\n",
       "         [0.1111, 0.1111, 0.1111, 0.1111, 0.1111, 0.1111, 0.1111, 0.1111,\n",
       "          0.1111]],\n",
       "\n",
       "        [[0.1077, 0.1070, 0.1135, 0.1097, 0.1106, 0.1086, 0.1149, 0.1137,\n",
       "          0.1143],\n",
       "         [0.1216, 0.1209, 0.1282, 0.1239, 0.1250, 0.1227, 0.0000, 0.1284,\n",
       "          0.1292],\n",
       "         [0.1390, 0.1382, 0.1465, 0.1416, 0.0000, 0.1402, 0.0000, 0.1468,\n",
       "          0.1476],\n",
       "         [0.1617, 0.1607, 0.1704, 0.1647, 0.0000, 0.0000, 0.0000, 0.1707,\n",
       "          0.1717],\n",
       "         [0.1950, 0.1938, 0.0000, 0.1985, 0.0000, 0.0000, 0.0000, 0.2058,\n",
       "          0.2070],\n",
       "         [0.0000, 0.2406, 0.0000, 0.2466, 0.0000, 0.0000, 0.0000, 0.2556,\n",
       "          0.2571],\n",
       "         [0.0000, 0.0000, 0.0000, 0.3248, 0.0000, 0.0000, 0.0000, 0.3366,\n",
       "          0.3386],\n",
       "         [0.0000, 0.0000, 0.0000, 0.4911, 0.0000, 0.0000, 0.0000, 0.5089,\n",
       "          0.0000],\n",
       "         [0.0000, 0.0000, 0.0000, 0.0000, 0.0000, 0.0000, 0.0000, 1.0000,\n",
       "          0.0000]]], grad_fn=<PermuteBackward0>)"
      ]
     },
     "execution_count": 14,
     "metadata": {},
     "output_type": "execute_result"
    }
   ],
   "source": [
    "o.permute(1,0,2)"
   ]
  },
  {
   "cell_type": "code",
   "execution_count": 16,
   "id": "f0638311-a55b-4419-9b3d-1f9cce72f96e",
   "metadata": {},
   "outputs": [
    {
     "data": {
      "text/plain": [
       "tensor([0.1446, 0.1441], grad_fn=<ReshapeAliasBackward0>)"
      ]
     },
     "execution_count": 16,
     "metadata": {},
     "output_type": "execute_result"
    }
   ],
   "source": [
    "critic(d['data'], d['sequence_length'], 9)"
   ]
  },
  {
   "cell_type": "code",
   "execution_count": 18,
   "id": "a1817e35-5bef-41c7-a2ed-88fd52548665",
   "metadata": {},
   "outputs": [
    {
     "data": {
      "text/plain": [
       "tensor([[[0.6178, 0.6874],\n",
       "         [0.7340, 0.8900],\n",
       "         [0.1935, 0.7409],\n",
       "         [0.3764, 0.7121],\n",
       "         [0.0000, 0.0000],\n",
       "         [0.0000, 0.0000],\n",
       "         [0.0000, 0.0000],\n",
       "         [0.0000, 0.0000],\n",
       "         [0.0000, 0.0000]],\n",
       "\n",
       "        [[0.7294, 0.5274],\n",
       "         [0.0116, 0.7632],\n",
       "         [0.5543, 0.5182],\n",
       "         [0.1011, 0.8808],\n",
       "         [0.2545, 0.6822],\n",
       "         [0.1448, 0.9831],\n",
       "         [0.5045, 0.3308],\n",
       "         [0.3016, 0.6101],\n",
       "         [0.9203, 0.7499]]])"
      ]
     },
     "execution_count": 18,
     "metadata": {},
     "output_type": "execute_result"
    }
   ],
   "source": [
    "d['data']"
   ]
  },
  {
   "cell_type": "code",
   "execution_count": 19,
   "id": "e260b05f-4d76-4ad9-a32b-d7bb9996b373",
   "metadata": {},
   "outputs": [],
   "source": [
    "def measure_tour_length_padded(coordinates, tours, sequence_lengths):\n",
    "    tour_segments = torch.norm(\n",
    "        coordinates[\n",
    "            torch.arange(coordinates.shape[0]).unsqueeze(1), \n",
    "            torch.roll(tours, shifts=(0, 1), dims=(0, 1))\n",
    "        ] - \\\n",
    "        coordinates[\n",
    "            torch.arange(coordinates.shape[0]).unsqueeze(1), \n",
    "            tours\n",
    "        ], \n",
    "        dim=2\n",
    "    )\n",
    "    )"
   ]
  },
  {
   "cell_type": "code",
   "execution_count": 24,
   "id": "5f7531b6-077f-416c-96b3-205c58c8bfd3",
   "metadata": {},
   "outputs": [
    {
     "data": {
      "text/plain": [
       "tensor([4.1633, 3.7431])"
      ]
     },
     "execution_count": 24,
     "metadata": {},
     "output_type": "execute_result"
    }
   ],
   "source": [
    "measure_tour_length_padded(d['data'],torch.Tensor([[2, 0, 1, 3, 6, 4, 2, 4, 7],\n",
    "         [3, 5, 0, 7, 2, 8, 6, 1, 4]]).long())"
   ]
  },
  {
   "cell_type": "code",
   "execution_count": 26,
   "id": "1ddecf87-d75d-4209-b256-1f0bad0c9a0c",
   "metadata": {},
   "outputs": [
    {
     "data": {
      "text/plain": [
       "PackedSequence(data=tensor([[0.7294, 0.5274],\n",
       "        [0.6178, 0.6874],\n",
       "        [0.0116, 0.7632],\n",
       "        [0.7340, 0.8900],\n",
       "        [0.5543, 0.5182],\n",
       "        [0.1935, 0.7409],\n",
       "        [0.1011, 0.8808],\n",
       "        [0.3764, 0.7121],\n",
       "        [0.2545, 0.6822],\n",
       "        [0.1448, 0.9831],\n",
       "        [0.5045, 0.3308],\n",
       "        [0.3016, 0.6101],\n",
       "        [0.9203, 0.7499]]), batch_sizes=tensor([2, 2, 2, 2, 1, 1, 1, 1, 1]), sorted_indices=tensor([1, 0]), unsorted_indices=tensor([1, 0]))"
      ]
     },
     "execution_count": 26,
     "metadata": {},
     "output_type": "execute_result"
    }
   ],
   "source": [
    "torch.nn.utils.rnn.pack_padded_sequence( \n",
    "    d['data'], \n",
    "    batch_first=True, \n",
    "    lengths=d[\"sequence_length\"], \n",
    "    enforce_sorted=False\n",
    ")"
   ]
  },
  {
   "cell_type": "code",
   "execution_count": 17,
   "id": "890d5014-14dd-4df3-804d-e8ad274b38af",
   "metadata": {},
   "outputs": [
    {
     "data": {
      "text/plain": [
       "(tensor([[[0.2825, 0.2290, 0.2418, 0.2467, 0.0000, 0.0000, 0.0000, 0.0000,\n",
       "           0.0000],\n",
       "          [0.1188, 0.1143, 0.1084, 0.1069, 0.1110, 0.1102, 0.1175, 0.1135,\n",
       "           0.0995]],\n",
       " \n",
       "         [[0.3727, 0.3020, 0.0000, 0.3254, 0.0000, 0.0000, 0.0000, 0.0000,\n",
       "           0.0000],\n",
       "          [0.1330, 0.1280, 0.1214, 0.0000, 0.1243, 0.1234, 0.1315, 0.1270,\n",
       "           0.1114]],\n",
       " \n",
       "         [[0.0000, 0.4813, 0.0000, 0.5187, 0.0000, 0.0000, 0.0000, 0.0000,\n",
       "           0.0000],\n",
       "          [0.1517, 0.1460, 0.1385, 0.0000, 0.1418, 0.0000, 0.1500, 0.1449,\n",
       "           0.1270]],\n",
       " \n",
       "         [[0.0000, 0.0000, 0.0000, 1.0000, 0.0000, 0.0000, 0.0000, 0.0000,\n",
       "           0.0000],\n",
       "          [0.0000, 0.1721, 0.1632, 0.0000, 0.1672, 0.0000, 0.1769, 0.1709,\n",
       "           0.1498]],\n",
       " \n",
       "         [[0.1111, 0.1111, 0.1111, 0.1111, 0.1111, 0.1111, 0.1111, 0.1111,\n",
       "           0.1111],\n",
       "          [0.0000, 0.2075, 0.1969, 0.0000, 0.2016, 0.0000, 0.2133, 0.0000,\n",
       "           0.1806]],\n",
       " \n",
       "         [[0.1111, 0.1111, 0.1111, 0.1111, 0.1111, 0.1111, 0.1111, 0.1111,\n",
       "           0.1111],\n",
       "          [0.0000, 0.2584, 0.0000, 0.0000, 0.2511, 0.0000, 0.2656, 0.0000,\n",
       "           0.2249]],\n",
       " \n",
       "         [[0.1111, 0.1111, 0.1111, 0.1111, 0.1111, 0.1111, 0.1111, 0.1111,\n",
       "           0.1111],\n",
       "          [0.0000, 0.3334, 0.0000, 0.0000, 0.3239, 0.0000, 0.3427, 0.0000,\n",
       "           0.0000]],\n",
       " \n",
       "         [[0.1111, 0.1111, 0.1111, 0.1111, 0.1111, 0.1111, 0.1111, 0.1111,\n",
       "           0.1111],\n",
       "          [0.0000, 0.5072, 0.0000, 0.0000, 0.4928, 0.0000, 0.0000, 0.0000,\n",
       "           0.0000]],\n",
       " \n",
       "         [[0.1111, 0.1111, 0.1111, 0.1111, 0.1111, 0.1111, 0.1111, 0.1111,\n",
       "           0.1111],\n",
       "          [0.0000, 0.0000, 0.0000, 0.0000, 1.0000, 0.0000, 0.0000, 0.0000,\n",
       "           0.0000]]], grad_fn=<StackBackward0>),\n",
       " tensor([[2, 0, 1, 3, 6, 4, 2, 4, 7],\n",
       "         [3, 5, 0, 7, 2, 8, 6, 1, 4]]))"
      ]
     },
     "execution_count": 17,
     "metadata": {},
     "output_type": "execute_result"
    }
   ],
   "source": [
    "model(d['data'], d['sequence_length'], 9)"
   ]
  },
  {
   "cell_type": "code",
   "execution_count": 17,
   "id": "1836b71b-75b1-4a24-b9da-7a6283495bd4",
   "metadata": {
    "tags": []
   },
   "outputs": [],
   "source": [
    "x,y = model.infer(d['data'], d['sequence_length'], 9, mode=\"greedy\", original_width=2)"
   ]
  },
  {
   "cell_type": "code",
   "execution_count": 12,
   "id": "c85ff31a-e0d2-473e-bc47-32e37c8789fd",
   "metadata": {},
   "outputs": [],
   "source": [
    "x,y = model.infer(d['data'], d['sequence_length'], 9, mode=\"sampling\", original_width=10)"
   ]
  },
  {
   "cell_type": "code",
   "execution_count": 20,
   "id": "2b4d924b-a356-4a59-a47b-e081f5c64a61",
   "metadata": {},
   "outputs": [],
   "source": [
    "x,y = model.infer(d['data'], d['sequence_length'], 9, mode=\"greedy\", original_width=5)"
   ]
  },
  {
   "cell_type": "code",
   "execution_count": null,
   "id": "4a23234b-2b73-4d54-894b-be5163fe902a",
   "metadata": {},
   "outputs": [],
   "source": [
    "d['data']"
   ]
  },
  {
   "cell_type": "code",
   "execution_count": 18,
   "id": "ca557416-0693-499c-99cb-2e67a00563a7",
   "metadata": {},
   "outputs": [
    {
     "data": {
      "text/plain": [
       "tensor([[[[[0.1369, 0.1161, 0.1063, 0.1032, 0.0995, 0.1018, 0.1095, 0.1099,\n",
       "            0.1168],\n",
       "           [0.0000, 0.1345, 0.1233, 0.1197, 0.1152, 0.1178, 0.1268, 0.1274,\n",
       "            0.1354],\n",
       "           [0.0000, 0.1555, 0.1426, 0.1385, 0.1332, 0.1361, 0.1466, 0.1474,\n",
       "            0.0000],\n",
       "           [0.0000, 0.0000, 0.1689, 0.1640, 0.1578, 0.1612, 0.1736, 0.1745,\n",
       "            0.0000],\n",
       "           [0.0000, 0.0000, 0.2046, 0.1987, 0.1911, 0.1953, 0.2103, 0.0000,\n",
       "            0.0000],\n",
       "           [0.0000, 0.0000, 0.2591, 0.2516, 0.2420, 0.2473, 0.0000, 0.0000,\n",
       "            0.0000],\n",
       "           [0.0000, 0.0000, 0.0000, 0.3394, 0.3267, 0.3339, 0.0000, 0.0000,\n",
       "            0.0000],\n",
       "           [0.0000, 0.0000, 0.0000, 0.0000, 0.4945, 0.5055, 0.0000, 0.0000,\n",
       "            0.0000],\n",
       "           [0.0000, 0.0000, 0.0000, 0.0000, 1.0000, 0.0000, 0.0000, 0.0000,\n",
       "            0.0000]],\n",
       "\n",
       "          [[0.1369, 0.1161, 0.1063, 0.1032, 0.0995, 0.1018, 0.1095, 0.1099,\n",
       "            0.1168],\n",
       "           [0.0000, 0.1345, 0.1233, 0.1197, 0.1152, 0.1178, 0.1268, 0.1274,\n",
       "            0.1354],\n",
       "           [0.0000, 0.0000, 0.1424, 0.1383, 0.1331, 0.1361, 0.1465, 0.1472,\n",
       "            0.1564],\n",
       "           [0.0000, 0.0000, 0.1689, 0.1641, 0.1577, 0.1612, 0.1735, 0.1746,\n",
       "            0.0000],\n",
       "           [0.0000, 0.0000, 0.2046, 0.1987, 0.1911, 0.1953, 0.2103, 0.0000,\n",
       "            0.0000],\n",
       "           [0.0000, 0.0000, 0.2591, 0.2516, 0.2420, 0.2473, 0.0000, 0.0000,\n",
       "            0.0000],\n",
       "           [0.0000, 0.0000, 0.0000, 0.3394, 0.3267, 0.3339, 0.0000, 0.0000,\n",
       "            0.0000],\n",
       "           [0.0000, 0.0000, 0.0000, 0.0000, 0.4945, 0.5055, 0.0000, 0.0000,\n",
       "            0.0000],\n",
       "           [0.0000, 0.0000, 0.0000, 0.0000, 1.0000, 0.0000, 0.0000, 0.0000,\n",
       "            0.0000]]],\n",
       "\n",
       "\n",
       "         [[[0.1287, 0.1202, 0.1101, 0.1085, 0.1086, 0.1060, 0.1100, 0.1098,\n",
       "            0.0982],\n",
       "           [0.0000, 0.1379, 0.1264, 0.1244, 0.1246, 0.1216, 0.1263, 0.1260,\n",
       "            0.1128],\n",
       "           [0.0000, 0.0000, 0.1466, 0.1443, 0.1445, 0.1410, 0.1465, 0.1461,\n",
       "            0.1309],\n",
       "           [0.0000, 0.0000, 0.1718, 0.1691, 0.1693, 0.1652, 0.0000, 0.1712,\n",
       "            0.1534],\n",
       "           [0.0000, 0.0000, 0.0000, 0.2042, 0.2044, 0.1995, 0.0000, 0.2067,\n",
       "            0.1852],\n",
       "           [0.0000, 0.0000, 0.0000, 0.2575, 0.2576, 0.2515, 0.0000, 0.0000,\n",
       "            0.2334],\n",
       "           [0.0000, 0.0000, 0.0000, 0.3468, 0.0000, 0.3388, 0.0000, 0.0000,\n",
       "            0.3144],\n",
       "           [0.0000, 0.0000, 0.0000, 0.0000, 0.0000, 0.5188, 0.0000, 0.0000,\n",
       "            0.4812],\n",
       "           [0.0000, 0.0000, 0.0000, 0.0000, 0.0000, 0.0000, 0.0000, 0.0000,\n",
       "            1.0000]],\n",
       "\n",
       "          [[0.1287, 0.1202, 0.1101, 0.1085, 0.1086, 0.1060, 0.1100, 0.1098,\n",
       "            0.0982],\n",
       "           [0.0000, 0.1379, 0.1264, 0.1244, 0.1246, 0.1216, 0.1263, 0.1260,\n",
       "            0.1128],\n",
       "           [0.0000, 0.0000, 0.1466, 0.1443, 0.1445, 0.1410, 0.1465, 0.1461,\n",
       "            0.1309],\n",
       "           [0.0000, 0.0000, 0.0000, 0.1691, 0.1693, 0.1653, 0.1716, 0.1712,\n",
       "            0.1534],\n",
       "           [0.0000, 0.0000, 0.0000, 0.2042, 0.2044, 0.1995, 0.0000, 0.2067,\n",
       "            0.1852],\n",
       "           [0.0000, 0.0000, 0.0000, 0.2575, 0.2577, 0.2515, 0.0000, 0.0000,\n",
       "            0.2334],\n",
       "           [0.0000, 0.0000, 0.0000, 0.3468, 0.0000, 0.3388, 0.0000, 0.0000,\n",
       "            0.3144],\n",
       "           [0.0000, 0.0000, 0.0000, 0.0000, 0.0000, 0.5188, 0.0000, 0.0000,\n",
       "            0.4812],\n",
       "           [0.0000, 0.0000, 0.0000, 0.0000, 0.0000, 0.0000, 0.0000, 0.0000,\n",
       "            1.0000]]]]], grad_fn=<StackBackward0>)"
      ]
     },
     "execution_count": 18,
     "metadata": {},
     "output_type": "execute_result"
    }
   ],
   "source": [
    "x"
   ]
  },
  {
   "cell_type": "code",
   "execution_count": 19,
   "id": "2c5270fb-74c3-4547-bc97-15db1f7f00e0",
   "metadata": {},
   "outputs": [
    {
     "data": {
      "text/plain": [
       "tensor([[[0, 8, 1, 7, 6, 2, 3, 5, 4],\n",
       "         [0, 1, 8, 7, 6, 2, 3, 5, 4]],\n",
       "\n",
       "        [[0, 1, 6, 2, 7, 4, 3, 5, 8],\n",
       "         [0, 1, 2, 6, 7, 4, 3, 5, 8]]])"
      ]
     },
     "execution_count": 19,
     "metadata": {},
     "output_type": "execute_result"
    }
   ],
   "source": [
    "y"
   ]
  },
  {
   "cell_type": "code",
   "execution_count": 21,
   "id": "331f4f59-be7f-4978-adce-3d6309fd23f6",
   "metadata": {},
   "outputs": [
    {
     "data": {
      "text/plain": [
       "tensor([[[0, 8, 6, 7, 2, 3, 1, 4, 5],\n",
       "         [0, 8, 6, 7, 3, 2, 1, 4, 5],\n",
       "         [0, 8, 7, 3, 2, 1, 4, 5, 6],\n",
       "         [0, 5, 4, 1, 3, 2, 7, 8, 6],\n",
       "         [0, 8, 7, 2, 3, 1, 4, 5, 6]],\n",
       "\n",
       "        [[0, 8, 5, 3, 1, 4, 7, 6, 2],\n",
       "         [0, 8, 5, 3, 1, 4, 7, 2, 6],\n",
       "         [0, 8, 3, 5, 1, 4, 7, 6, 2],\n",
       "         [0, 8, 3, 5, 1, 4, 7, 2, 6],\n",
       "         [0, 8, 4, 3, 5, 1, 7, 2, 6]]])"
      ]
     },
     "execution_count": 21,
     "metadata": {},
     "output_type": "execute_result"
    }
   ],
   "source": [
    "y"
   ]
  },
  {
   "cell_type": "code",
   "execution_count": 16,
   "id": "502b8358-a31e-4487-9cc1-cd682815ba48",
   "metadata": {},
   "outputs": [
    {
     "data": {
      "text/plain": [
       "tensor([[[0, 8, 6, 7, 2, 3, 1, 4, 5],\n",
       "         [0, 8, 6, 7, 3, 2, 1, 4, 5],\n",
       "         [0, 8, 7, 3, 2, 1, 4, 5, 6],\n",
       "         [0, 5, 4, 1, 3, 2, 7, 8, 6],\n",
       "         [0, 8, 7, 2, 3, 1, 4, 5, 6],\n",
       "         [0, 5, 4, 1, 2, 3, 7, 8, 6],\n",
       "         [0, 6, 8, 7, 3, 2, 1, 4, 5],\n",
       "         [0, 6, 8, 7, 2, 3, 1, 4, 5],\n",
       "         [0, 8, 7, 2, 3, 4, 5, 1, 6],\n",
       "         [0, 8, 7, 3, 2, 4, 5, 1, 6]],\n",
       "\n",
       "        [[0, 8, 5, 3, 1, 4, 7, 6, 2],\n",
       "         [0, 8, 5, 3, 1, 4, 7, 2, 6],\n",
       "         [0, 8, 3, 5, 1, 4, 7, 6, 2],\n",
       "         [0, 8, 3, 5, 1, 4, 7, 2, 6],\n",
       "         [0, 8, 4, 3, 5, 1, 7, 2, 6],\n",
       "         [0, 8, 4, 3, 5, 1, 7, 6, 2],\n",
       "         [0, 8, 7, 4, 3, 5, 1, 2, 6],\n",
       "         [0, 8, 7, 4, 3, 5, 1, 6, 2],\n",
       "         [0, 8, 4, 1, 3, 5, 7, 6, 2],\n",
       "         [0, 8, 3, 1, 5, 4, 7, 6, 2]]])"
      ]
     },
     "execution_count": 16,
     "metadata": {},
     "output_type": "execute_result"
    }
   ],
   "source": [
    "y"
   ]
  },
  {
   "cell_type": "code",
   "execution_count": 40,
   "id": "551dd5c6-98c5-426b-b61b-b7e1b9232b69",
   "metadata": {},
   "outputs": [],
   "source": [
    "sorted, indices = torch.sort(y)"
   ]
  },
  {
   "cell_type": "code",
   "execution_count": 41,
   "id": "9c0f14c3-ca34-458e-adea-2012fff617d9",
   "metadata": {},
   "outputs": [
    {
     "data": {
      "text/plain": [
       "tensor([[[0, 1, 2, 3],\n",
       "         [0, 1, 2, 3],\n",
       "         [0, 1, 2, 3],\n",
       "         ...,\n",
       "         [0, 1, 1, 3],\n",
       "         [1, 2, 2, 3],\n",
       "         [0, 1, 1, 3]],\n",
       "\n",
       "        [[0, 1, 2, 3],\n",
       "         [0, 1, 2, 3],\n",
       "         [0, 1, 2, 3],\n",
       "         ...,\n",
       "         [0, 1, 3, 3],\n",
       "         [1, 1, 2, 3],\n",
       "         [0, 0, 3, 3]]])"
      ]
     },
     "execution_count": 41,
     "metadata": {},
     "output_type": "execute_result"
    }
   ],
   "source": [
    "sorted"
   ]
  },
  {
   "cell_type": "code",
   "execution_count": null,
   "id": "30153c7a-4f11-4903-a99e-04a934e81400",
   "metadata": {},
   "outputs": [],
   "source": [
    "r = evaluate_model(model, dataset)"
   ]
  },
  {
   "cell_type": "code",
   "execution_count": 136,
   "id": "75815467-6777-4e94-8d38-392f28640150",
   "metadata": {},
   "outputs": [
    {
     "name": "stdout",
     "output_type": "stream",
     "text": [
      "Tours of length 4:\n",
      "Average optimal length: 1.89260\t\tAverage predicted length: 2.03391\n",
      "Average gap:\t\t1.07544\t\tGap of averages:          1.07466\n",
      "Tours of length 5:\n",
      "Average optimal length: 2.12344\t\tAverage predicted length: 2.47774\n",
      "Average gap:\t\t1.16760\t\tGap of averages:          1.16685\n",
      "Tours of length 6:\n",
      "Average optimal length: 2.31536\t\tAverage predicted length: 2.91536\n",
      "Average gap:\t\t1.25998\t\tGap of averages:          1.25914\n",
      "Tours of length 7:\n",
      "Average optimal length: 2.47623\t\tAverage predicted length: 3.35928\n",
      "Average gap:\t\t1.35760\t\tGap of averages:          1.35661\n",
      "Tours of length 8:\n",
      "Average optimal length: 2.62102\t\tAverage predicted length: 3.79544\n",
      "Average gap:\t\t1.45012\t\tGap of averages:          1.44808\n",
      "Tours of length 9:\n",
      "Average optimal length: 2.74567\t\tAverage predicted length: 4.21892\n",
      "Average gap:\t\t1.53887\t\tGap of averages:          1.53657\n",
      "Tours of length 10:\n",
      "Average optimal length: 2.86665\t\tAverage predicted length: 4.65837\n",
      "Average gap:\t\t1.62769\t\tGap of averages:          1.62502\n"
     ]
    }
   ],
   "source": [
    "analyse_results(r)"
   ]
  },
  {
   "cell_type": "code",
   "execution_count": 91,
   "id": "9b3c1829-81be-4930-9b86-b5aa2610e578",
   "metadata": {},
   "outputs": [
    {
     "data": {
      "text/plain": [
       "tensor([2.3348, 1.2219, 1.3175,  ..., 1.9621, 2.7137, 1.6923])"
      ]
     },
     "execution_count": 91,
     "metadata": {},
     "output_type": "execute_result"
    }
   ],
   "source": [
    "measure_tour_length(r[\"point_coordinates\"][4], r['predicted_tour'][4])"
   ]
  },
  {
   "cell_type": "code",
   "execution_count": 92,
   "id": "779fe181-1e1e-4aea-b24e-ca3e497b3f4c",
   "metadata": {},
   "outputs": [
    {
     "data": {
      "text/plain": [
       "tensor([2.2001, 1.2219, 1.2633,  ..., 1.8353, 2.1844, 1.6923])"
      ]
     },
     "execution_count": 92,
     "metadata": {},
     "output_type": "execute_result"
    }
   ],
   "source": [
    "measure_tour_length(r[\"point_coordinates\"][4], r['ground_truth'][4])"
   ]
  },
  {
   "cell_type": "code",
   "execution_count": 93,
   "id": "170be072-91de-4fb9-8234-4144bebc3b48",
   "metadata": {},
   "outputs": [
    {
     "data": {
      "text/plain": [
       "tensor(2.0339)"
      ]
     },
     "execution_count": 93,
     "metadata": {},
     "output_type": "execute_result"
    }
   ],
   "source": [
    "torch.mean(measure_tour_length(r[\"point_coordinates\"][4], r['predicted_tour'][4]))"
   ]
  },
  {
   "cell_type": "code",
   "execution_count": 94,
   "id": "9daf19c6-7eb7-4d85-a766-a6f4087417a9",
   "metadata": {},
   "outputs": [
    {
     "data": {
      "text/plain": [
       "tensor(1.8926)"
      ]
     },
     "execution_count": 94,
     "metadata": {},
     "output_type": "execute_result"
    }
   ],
   "source": [
    "torch.mean(measure_tour_length(r[\"point_coordinates\"][4], r['ground_truth'][4]))"
   ]
  },
  {
   "cell_type": "code",
   "execution_count": null,
   "id": "75c76a41-3a98-4bef-91c0-2201cae692a0",
   "metadata": {},
   "outputs": [],
   "source": [
    "measure_tour_length(r[\"point_coordinates\"][4], r['ground'][4])"
   ]
  },
  {
   "cell_type": "code",
   "execution_count": 27,
   "id": "e613f0db-f673-4204-a5fe-da7584fd83cc",
   "metadata": {},
   "outputs": [
    {
     "data": {
      "text/plain": [
       "tensor([[0.8265, 0.2317],\n",
       "        [0.4847, 0.4695],\n",
       "        [0.0845, 0.6703],\n",
       "        [0.5592, 0.9627]])"
      ]
     },
     "execution_count": 27,
     "metadata": {},
     "output_type": "execute_result"
    }
   ],
   "source": [
    "r[\"point_coordinates\"][4][0][r['predicted_tour'][4][0]]"
   ]
  },
  {
   "cell_type": "code",
   "execution_count": 24,
   "id": "9b6b0e17-23b3-42d4-9890-d18386ed4e7e",
   "metadata": {},
   "outputs": [
    {
     "data": {
      "text/plain": [
       "tensor([1, 0, 2, 3], device='cuda:0')"
      ]
     },
     "execution_count": 24,
     "metadata": {},
     "output_type": "execute_result"
    }
   ],
   "source": [
    "r['predicted_tour'][4][0]"
   ]
  },
  {
   "cell_type": "code",
   "execution_count": 60,
   "id": "86134294-c70d-4b0b-afde-5a71c7aa7617",
   "metadata": {},
   "outputs": [
    {
     "data": {
      "text/plain": [
       "tensor([2.2001, 1.2456, 1.5261,  ..., 1.8353, 2.1844, 1.8167])"
      ]
     },
     "execution_count": 60,
     "metadata": {},
     "output_type": "execute_result"
    }
   ],
   "source": [
    "torch.sum(\n",
    "    torch.norm(\n",
    "        r[\"point_coordinates\"][4][\n",
    "            torch.arange(10000).unsqueeze(1), \n",
    "            torch.roll(r['predicted_tour'][4], shifts=(0, 1), dims=(0, 1))\n",
    "        ] - \\\n",
    "        r[\"point_coordinates\"][4][\n",
    "            torch.arange(10000).unsqueeze(1), \n",
    "            r['predicted_tour'][4]\n",
    "        ], \n",
    "        dim=2\n",
    "    ),\n",
    "    dim=1\n",
    ")"
   ]
  },
  {
   "cell_type": "code",
   "execution_count": 37,
   "id": "8540a0a3-4846-4abe-a2dc-53629da02de8",
   "metadata": {},
   "outputs": [
    {
     "data": {
      "text/plain": [
       "tensor([[3, 1, 0, 2],\n",
       "        [3, 1, 0, 2]], device='cuda:0')"
      ]
     },
     "execution_count": 37,
     "metadata": {},
     "output_type": "execute_result"
    }
   ],
   "source": [
    "torch.roll(r['predicted_tour'][4][:2], shifts=(0, 1), dims=(0, 1))"
   ]
  },
  {
   "cell_type": "code",
   "execution_count": 44,
   "id": "94913793-7505-41c5-9537-c8eeb3f958c0",
   "metadata": {},
   "outputs": [
    {
     "ename": "IndexError",
     "evalue": "shape mismatch: indexing tensors could not be broadcast together with shapes [2], [2, 4]",
     "output_type": "error",
     "traceback": [
      "\u001b[0;31m---------------------------------------------------------------------------\u001b[0m",
      "\u001b[0;31mIndexError\u001b[0m                                Traceback (most recent call last)",
      "Input \u001b[0;32mIn [44]\u001b[0m, in \u001b[0;36m<cell line: 1>\u001b[0;34m()\u001b[0m\n\u001b[0;32m----> 1\u001b[0m \u001b[43mr\u001b[49m\u001b[43m[\u001b[49m\u001b[38;5;124;43m\"\u001b[39;49m\u001b[38;5;124;43mpoint_coordinates\u001b[39;49m\u001b[38;5;124;43m\"\u001b[39;49m\u001b[43m]\u001b[49m\u001b[43m[\u001b[49m\u001b[38;5;241;43m4\u001b[39;49m\u001b[43m]\u001b[49m\u001b[43m[\u001b[49m\u001b[43m:\u001b[49m\u001b[38;5;241;43m2\u001b[39;49m\u001b[43m]\u001b[49m\u001b[43m[\u001b[49m\u001b[43mnp\u001b[49m\u001b[38;5;241;43m.\u001b[39;49m\u001b[43marange\u001b[49m\u001b[43m(\u001b[49m\u001b[38;5;241;43m2\u001b[39;49m\u001b[43m)\u001b[49m\u001b[43m,\u001b[49m\u001b[43m \u001b[49m\u001b[43mtorch\u001b[49m\u001b[38;5;241;43m.\u001b[39;49m\u001b[43mroll\u001b[49m\u001b[43m(\u001b[49m\u001b[43mr\u001b[49m\u001b[43m[\u001b[49m\u001b[38;5;124;43m'\u001b[39;49m\u001b[38;5;124;43mpredicted_tour\u001b[39;49m\u001b[38;5;124;43m'\u001b[39;49m\u001b[43m]\u001b[49m\u001b[43m[\u001b[49m\u001b[38;5;241;43m4\u001b[39;49m\u001b[43m]\u001b[49m\u001b[43m[\u001b[49m\u001b[43m:\u001b[49m\u001b[38;5;241;43m2\u001b[39;49m\u001b[43m]\u001b[49m\u001b[43m,\u001b[49m\u001b[43m \u001b[49m\u001b[43mshifts\u001b[49m\u001b[38;5;241;43m=\u001b[39;49m\u001b[43m(\u001b[49m\u001b[38;5;241;43m0\u001b[39;49m\u001b[43m,\u001b[49m\u001b[43m \u001b[49m\u001b[38;5;241;43m1\u001b[39;49m\u001b[43m)\u001b[49m\u001b[43m,\u001b[49m\u001b[43m \u001b[49m\u001b[43mdims\u001b[49m\u001b[38;5;241;43m=\u001b[39;49m\u001b[43m(\u001b[49m\u001b[38;5;241;43m0\u001b[39;49m\u001b[43m,\u001b[49m\u001b[43m \u001b[49m\u001b[38;5;241;43m1\u001b[39;49m\u001b[43m)\u001b[49m\u001b[43m)\u001b[49m\u001b[43m]\u001b[49m\n",
      "\u001b[0;31mIndexError\u001b[0m: shape mismatch: indexing tensors could not be broadcast together with shapes [2], [2, 4]"
     ]
    }
   ],
   "source": [
    "r[\"point_coordinates\"][4][:2][np.arange(2), torch.roll(r['predicted_tour'][4][:2], shifts=(0, 1), dims=(0, 1))]"
   ]
  },
  {
   "cell_type": "code",
   "execution_count": 56,
   "id": "65be8556-2a8b-408a-9bc9-03650cc968a0",
   "metadata": {},
   "outputs": [
    {
     "data": {
      "text/plain": [
       "tensor([[[0.5592, 0.9627],\n",
       "         [0.8265, 0.2317],\n",
       "         [0.4847, 0.4695],\n",
       "         [0.0845, 0.6703]],\n",
       "\n",
       "        [[0.3764, 0.7121],\n",
       "         [0.7340, 0.8900],\n",
       "         [0.6178, 0.6874],\n",
       "         [0.1935, 0.7409]]])"
      ]
     },
     "execution_count": 56,
     "metadata": {},
     "output_type": "execute_result"
    }
   ],
   "source": [
    "r[\"point_coordinates\"][4][:2][torch.arange(2).unsqueeze(1), [[3,1,0,2],[3,1,0,2]]]"
   ]
  },
  {
   "cell_type": "code",
   "execution_count": 57,
   "id": "75247ad5-f0c4-4aaf-9db5-061a734a48a1",
   "metadata": {},
   "outputs": [
    {
     "data": {
      "text/plain": [
       "tensor([[[0.4847, 0.4695],\n",
       "         [0.8265, 0.2317],\n",
       "         [0.0845, 0.6703],\n",
       "         [0.5592, 0.9627]],\n",
       "\n",
       "        [[0.6178, 0.6874],\n",
       "         [0.7340, 0.8900],\n",
       "         [0.1935, 0.7409],\n",
       "         [0.3764, 0.7121]]])"
      ]
     },
     "execution_count": 57,
     "metadata": {},
     "output_type": "execute_result"
    }
   ],
   "source": [
    "r[\"point_coordinates\"][4][:2]"
   ]
  },
  {
   "cell_type": "code",
   "execution_count": 33,
   "id": "06c5c221-100f-4d68-8d20-40afbd5bcf59",
   "metadata": {},
   "outputs": [
    {
     "data": {
      "text/plain": [
       "tensor(2.2001)"
      ]
     },
     "execution_count": 33,
     "metadata": {},
     "output_type": "execute_result"
    }
   ],
   "source": [
    "torch.sum(torch.norm(r[\"point_coordinates\"][4][0][torch.roll(r['predicted_tour'][4][0], 1)] - r[\"point_coordinates\"][4][0][r['predicted_tour'][4][0]], dim=-1))"
   ]
  },
  {
   "cell_type": "code",
   "execution_count": 10,
   "id": "ae9a761b-32e6-4d69-bafa-0d2f7abfae2b",
   "metadata": {},
   "outputs": [
    {
     "data": {
      "text/plain": [
       "{'data': tensor([[[0.2220, 0.6487],\n",
       "          [0.6975, 0.7603],\n",
       "          [0.6097, 0.9167],\n",
       "          [0.2324, 0.2338],\n",
       "          [0.2502, 0.6472],\n",
       "          [0.2105, 0.0914],\n",
       "          [0.9167, 0.3290],\n",
       "          [0.0966, 0.9658],\n",
       "          [0.8538, 0.2523],\n",
       "          [0.8927, 0.1994]],\n",
       " \n",
       "         [[0.4542, 0.2756],\n",
       "          [0.8919, 0.5220],\n",
       "          [0.2363, 0.8677],\n",
       "          [0.2246, 0.4838],\n",
       "          [0.9432, 0.8795],\n",
       "          [0.2428, 0.6920],\n",
       "          [0.2849, 0.3014],\n",
       "          [0.0000, 0.0000],\n",
       "          [0.0000, 0.0000],\n",
       "          [0.0000, 0.0000]]]),\n",
       " 'sequence_length': tensor([10.,  7.]),\n",
       " 'tour_length': tensor([[1.9873e+08],\n",
       "         [1.5561e+08]], dtype=torch.float64),\n",
       " 'tour_ohe': tensor([[[1., 0., 0., 0., 0., 0., 0., 0., 0., 0.],\n",
       "          [0., 0., 0., 0., 0., 0., 0., 1., 0., 0.],\n",
       "          [0., 0., 1., 0., 0., 0., 0., 0., 0., 0.],\n",
       "          [0., 1., 0., 0., 0., 0., 0., 0., 0., 0.],\n",
       "          [0., 0., 0., 0., 0., 0., 1., 0., 0., 0.],\n",
       "          [0., 0., 0., 0., 0., 0., 0., 0., 1., 0.],\n",
       "          [0., 0., 0., 0., 0., 0., 0., 0., 0., 1.],\n",
       "          [0., 0., 0., 0., 0., 1., 0., 0., 0., 0.],\n",
       "          [0., 0., 0., 1., 0., 0., 0., 0., 0., 0.],\n",
       "          [0., 0., 0., 0., 1., 0., 0., 0., 0., 0.]],\n",
       " \n",
       "         [[1., 0., 0., 0., 0., 0., 0., 0., 0., 0.],\n",
       "          [0., 1., 0., 0., 0., 0., 0., 0., 0., 0.],\n",
       "          [0., 0., 0., 0., 1., 0., 0., 0., 0., 0.],\n",
       "          [0., 0., 1., 0., 0., 0., 0., 0., 0., 0.],\n",
       "          [0., 0., 0., 0., 0., 1., 0., 0., 0., 0.],\n",
       "          [0., 0., 0., 1., 0., 0., 0., 0., 0., 0.],\n",
       "          [0., 0., 0., 0., 0., 0., 1., 0., 0., 0.],\n",
       "          [0., 0., 0., 0., 0., 0., 0., 0., 0., 0.],\n",
       "          [0., 0., 0., 0., 0., 0., 0., 0., 0., 0.],\n",
       "          [0., 0., 0., 0., 0., 0., 0., 0., 0., 0.]]])}"
      ]
     },
     "execution_count": 10,
     "metadata": {},
     "output_type": "execute_result"
    }
   ],
   "source": [
    "x"
   ]
  },
  {
   "cell_type": "code",
   "execution_count": 11,
   "id": "7faf7e7a-e2bb-413f-be53-8d55e1fcf294",
   "metadata": {},
   "outputs": [],
   "source": [
    "out, indices = model(x[\"data\"], x[\"sequence_length\"])"
   ]
  },
  {
   "cell_type": "code",
   "execution_count": 14,
   "id": "ab14276e-9520-49cf-9dac-da79eacbccdd",
   "metadata": {},
   "outputs": [
    {
     "data": {
      "text/plain": [
       "tensor([[[0.0532, 0.0705, 0.0858, 0.0993, 0.1007, 0.1101, 0.1235, 0.1061,\n",
       "          0.1213, 0.1295],\n",
       "         [0.0940, 0.1257, 0.1317, 0.1466, 0.1668, 0.1641, 0.1712, 0.0000,\n",
       "          0.0000, 0.0000]],\n",
       "\n",
       "        [[0.0613, 0.0809, 0.0981, 0.1141, 0.1155, 0.1270, 0.1423, 0.1214,\n",
       "          0.1395, 0.0000],\n",
       "         [0.1141, 0.1523, 0.1588, 0.1769, 0.2007, 0.1972, 0.0000, 0.0000,\n",
       "          0.0000, 0.0000]],\n",
       "\n",
       "        [[0.0719, 0.0946, 0.1142, 0.1331, 0.1345, 0.1482, 0.0000, 0.1410,\n",
       "          0.1625, 0.0000],\n",
       "         [0.1443, 0.1913, 0.1983, 0.2210, 0.0000, 0.2451, 0.0000, 0.0000,\n",
       "          0.0000, 0.0000]],\n",
       "\n",
       "        [[0.0862, 0.1132, 0.1363, 0.1589, 0.1604, 0.1770, 0.0000, 0.1681,\n",
       "          0.0000, 0.0000],\n",
       "         [0.1915, 0.2536, 0.2625, 0.2923, 0.0000, 0.0000, 0.0000, 0.0000,\n",
       "          0.0000, 0.0000]],\n",
       "\n",
       "        [[0.1046, 0.1376, 0.1657, 0.1931, 0.1948, 0.0000, 0.0000, 0.2042,\n",
       "          0.0000, 0.0000],\n",
       "         [0.2705, 0.3585, 0.3709, 0.0000, 0.0000, 0.0000, 0.0000, 0.0000,\n",
       "          0.0000, 0.0000]],\n",
       "\n",
       "        [[0.1322, 0.1729, 0.2079, 0.2424, 0.2446, 0.0000, 0.0000, 0.0000,\n",
       "          0.0000, 0.0000],\n",
       "         [0.4306, 0.5694, 0.0000, 0.0000, 0.0000, 0.0000, 0.0000, 0.0000,\n",
       "          0.0000, 0.0000]],\n",
       "\n",
       "        [[0.1753, 0.2289, 0.2752, 0.3206, 0.0000, 0.0000, 0.0000, 0.0000,\n",
       "          0.0000, 0.0000],\n",
       "         [1.0000, 0.0000, 0.0000, 0.0000, 0.0000, 0.0000, 0.0000, 0.0000,\n",
       "          0.0000, 0.0000]],\n",
       "\n",
       "        [[0.2575, 0.3371, 0.4054, 0.0000, 0.0000, 0.0000, 0.0000, 0.0000,\n",
       "          0.0000, 0.0000],\n",
       "         [   nan,    nan,    nan,    nan,    nan,    nan,    nan,    nan,\n",
       "             nan,    nan]],\n",
       "\n",
       "        [[0.4344, 0.5656, 0.0000, 0.0000, 0.0000, 0.0000, 0.0000, 0.0000,\n",
       "          0.0000, 0.0000],\n",
       "         [   nan,    nan,    nan,    nan,    nan,    nan,    nan,    nan,\n",
       "             nan,    nan]],\n",
       "\n",
       "        [[1.0000, 0.0000, 0.0000, 0.0000, 0.0000, 0.0000, 0.0000, 0.0000,\n",
       "          0.0000, 0.0000],\n",
       "         [   nan,    nan,    nan,    nan,    nan,    nan,    nan,    nan,\n",
       "             nan,    nan]]], grad_fn=<StackBackward0>)"
      ]
     },
     "execution_count": 14,
     "metadata": {},
     "output_type": "execute_result"
    }
   ],
   "source": [
    "out"
   ]
  },
  {
   "cell_type": "code",
   "execution_count": 12,
   "id": "da580fdd-a65d-4785-bf39-0e634581e524",
   "metadata": {},
   "outputs": [],
   "source": [
    "CCE = torch.nn.CrossEntropyLoss(reduction=\"none\")"
   ]
  },
  {
   "cell_type": "code",
   "execution_count": 33,
   "id": "0f7dbaf1-146e-43cf-8ff7-a11a48e72450",
   "metadata": {},
   "outputs": [
    {
     "data": {
      "text/plain": [
       "tensor(2.3568, grad_fn=<DivBackward0>)"
      ]
     },
     "execution_count": 33,
     "metadata": {},
     "output_type": "execute_result"
    }
   ],
   "source": [
    "torch.sum(torch.nn.utils.rnn.pack_padded_sequence(CCE(torch.nan_to_num(out).permute(1,0,2), x['tour_ohe'])/x[\"sequence_length\"].view(-1,1), batch_first=True, lengths=x[\"sequence_length\"]).data)/x[\"sequence_length\"].shape[0]"
   ]
  },
  {
   "cell_type": "code",
   "execution_count": 20,
   "id": "cda44498-3cff-4f99-9a57-5a3359c7a589",
   "metadata": {},
   "outputs": [
    {
     "ename": "RuntimeError",
     "evalue": "The size of tensor a (10) must match the size of tensor b (2) at non-singleton dimension 1",
     "output_type": "error",
     "traceback": [
      "\u001b[0;31m---------------------------------------------------------------------------\u001b[0m",
      "\u001b[0;31mRuntimeError\u001b[0m                              Traceback (most recent call last)",
      "Input \u001b[0;32mIn [20]\u001b[0m, in \u001b[0;36m<cell line: 1>\u001b[0;34m()\u001b[0m\n\u001b[0;32m----> 1\u001b[0m torch\u001b[38;5;241m.\u001b[39mnn\u001b[38;5;241m.\u001b[39mutils\u001b[38;5;241m.\u001b[39mrnn\u001b[38;5;241m.\u001b[39mpack_padded_sequence(\u001b[43mCCE\u001b[49m\u001b[43m(\u001b[49m\u001b[43mtorch\u001b[49m\u001b[38;5;241;43m.\u001b[39;49m\u001b[43mnan_to_num\u001b[49m\u001b[43m(\u001b[49m\u001b[43mout\u001b[49m\u001b[43m)\u001b[49m\u001b[38;5;241;43m.\u001b[39;49m\u001b[43mpermute\u001b[49m\u001b[43m(\u001b[49m\u001b[38;5;241;43m1\u001b[39;49m\u001b[43m,\u001b[49m\u001b[38;5;241;43m0\u001b[39;49m\u001b[43m,\u001b[49m\u001b[38;5;241;43m2\u001b[39;49m\u001b[43m)\u001b[49m\u001b[43m[\u001b[49m\u001b[43m:\u001b[49m\u001b[43m,\u001b[49m\u001b[43m:\u001b[49m\u001b[43m]\u001b[49m\u001b[43m,\u001b[49m\u001b[43m \u001b[49m\u001b[43mx\u001b[49m\u001b[43m[\u001b[49m\u001b[38;5;124;43m'\u001b[39;49m\u001b[38;5;124;43mtour_ohe\u001b[39;49m\u001b[38;5;124;43m'\u001b[39;49m\u001b[43m]\u001b[49m\u001b[43m[\u001b[49m\u001b[43m:\u001b[49m\u001b[43m,\u001b[49m\u001b[43m:\u001b[49m\u001b[43m]\u001b[49m\u001b[43m)\u001b[49m\u001b[38;5;241;43m/\u001b[39;49m\u001b[43mx\u001b[49m\u001b[43m[\u001b[49m\u001b[38;5;124;43m\"\u001b[39;49m\u001b[38;5;124;43msequence_length\u001b[39;49m\u001b[38;5;124;43m\"\u001b[39;49m\u001b[43m]\u001b[49m, batch_first\u001b[38;5;241m=\u001b[39m\u001b[38;5;28;01mTrue\u001b[39;00m, lengths\u001b[38;5;241m=\u001b[39mx[\u001b[38;5;124m\"\u001b[39m\u001b[38;5;124msequence_length\u001b[39m\u001b[38;5;124m\"\u001b[39m])\n",
      "\u001b[0;31mRuntimeError\u001b[0m: The size of tensor a (10) must match the size of tensor b (2) at non-singleton dimension 1"
     ]
    }
   ],
   "source": [
    "torch.nn.utils.rnn.pack_padded_sequence(CCE(torch.nan_to_num(out).permute(1,0,2)[:,:], x['tour_ohe'][:,:])/x[\"sequence_length\"], batch_first=True, lengths=x[\"sequence_length\"])"
   ]
  },
  {
   "cell_type": "code",
   "execution_count": 54,
   "id": "7868857b-c1b4-43b7-aecb-e79896090e2e",
   "metadata": {},
   "outputs": [
    {
     "data": {
      "text/plain": [
       "tensor([[0.1269, 0.1259, 0.1362, 0.1443, 0.1576, 0.1549, 0.1543, 0.0000, 0.0000,\n",
       "         0.0000],\n",
       "        [0.1496, 0.1494, 0.1619, 0.1714, 0.0000, 0.1842, 0.1834, 0.0000, 0.0000,\n",
       "         0.0000],\n",
       "        [0.1815, 0.1829, 0.1989, 0.2109, 0.0000, 0.0000, 0.2258, 0.0000, 0.0000,\n",
       "         0.0000],\n",
       "        [0.2342, 0.2363, 0.2571, 0.2724, 0.0000, 0.0000, 0.0000, 0.0000, 0.0000,\n",
       "         0.0000],\n",
       "        [0.3221, 0.3247, 0.3532, 0.0000, 0.0000, 0.0000, 0.0000, 0.0000, 0.0000,\n",
       "         0.0000],\n",
       "        [0.4974, 0.5026, 0.0000, 0.0000, 0.0000, 0.0000, 0.0000, 0.0000, 0.0000,\n",
       "         0.0000],\n",
       "        [1.0000, 0.0000, 0.0000, 0.0000, 0.0000, 0.0000, 0.0000, 0.0000, 0.0000,\n",
       "         0.0000],\n",
       "        [0.0000, 0.0000, 0.0000, 0.0000, 0.0000, 0.0000, 0.0000, 0.0000, 0.0000,\n",
       "         0.0000],\n",
       "        [0.0000, 0.0000, 0.0000, 0.0000, 0.0000, 0.0000, 0.0000, 0.0000, 0.0000,\n",
       "         0.0000],\n",
       "        [0.1850, 0.1935, 0.1898, 0.2081, 0.2236, 0.0000, 0.0000, 0.0000, 0.0000,\n",
       "         0.0000],\n",
       "        [0.2374, 0.2496, 0.2445, 0.2685, 0.0000, 0.0000, 0.0000, 0.0000, 0.0000,\n",
       "         0.0000],\n",
       "        [0.3225, 0.3415, 0.3360, 0.0000, 0.0000, 0.0000, 0.0000, 0.0000, 0.0000,\n",
       "         0.0000],\n",
       "        [0.4890, 0.0000, 0.5110, 0.0000, 0.0000, 0.0000, 0.0000, 0.0000, 0.0000,\n",
       "         0.0000],\n",
       "        [1.0000, 0.0000, 0.0000, 0.0000, 0.0000, 0.0000, 0.0000, 0.0000, 0.0000,\n",
       "         0.0000],\n",
       "        [0.0000, 0.0000, 0.0000, 0.0000, 0.0000, 0.0000, 0.0000, 0.0000, 0.0000,\n",
       "         0.0000],\n",
       "        [0.0000, 0.0000, 0.0000, 0.0000, 0.0000, 0.0000, 0.0000, 0.0000, 0.0000,\n",
       "         0.0000],\n",
       "        [0.0000, 0.0000, 0.0000, 0.0000, 0.0000, 0.0000, 0.0000, 0.0000, 0.0000,\n",
       "         0.0000],\n",
       "        [0.0000, 0.0000, 0.0000, 0.0000, 0.0000, 0.0000, 0.0000, 0.0000, 0.0000,\n",
       "         0.0000]], grad_fn=<UnsafeViewBackward0>)"
      ]
     },
     "execution_count": 54,
     "metadata": {},
     "output_type": "execute_result"
    }
   ],
   "source": [
    "torch.nan_to_num(out).permute(1,0,2)[:,:9].reshape(-1,10)"
   ]
  },
  {
   "cell_type": "code",
   "execution_count": 55,
   "id": "7baa05d5-fd00-41bc-9492-423407109815",
   "metadata": {},
   "outputs": [
    {
     "data": {
      "text/plain": [
       "tensor([[1., 0., 0., 0., 0., 0., 0., 0., 0., 0.],\n",
       "        [0., 1., 0., 0., 0., 0., 0., 0., 0., 0.],\n",
       "        [0., 0., 1., 0., 0., 0., 0., 0., 0., 0.],\n",
       "        [0., 0., 0., 0., 0., 1., 0., 0., 0., 0.],\n",
       "        [0., 0., 0., 0., 0., 0., 1., 0., 0., 0.],\n",
       "        [0., 0., 0., 1., 0., 0., 0., 0., 0., 0.],\n",
       "        [0., 0., 0., 0., 1., 0., 0., 0., 0., 0.],\n",
       "        [0., 0., 0., 0., 0., 0., 0., 0., 0., 0.],\n",
       "        [0., 0., 0., 0., 0., 0., 0., 0., 0., 0.],\n",
       "        [0., 0., 0., 0., 0., 0., 0., 0., 0., 0.],\n",
       "        [1., 0., 0., 0., 0., 0., 0., 0., 0., 0.],\n",
       "        [0., 0., 0., 1., 0., 0., 0., 0., 0., 0.],\n",
       "        [0., 0., 1., 0., 0., 0., 0., 0., 0., 0.],\n",
       "        [0., 0., 0., 0., 1., 0., 0., 0., 0., 0.],\n",
       "        [0., 1., 0., 0., 0., 0., 0., 0., 0., 0.],\n",
       "        [0., 0., 0., 0., 0., 0., 0., 0., 0., 0.],\n",
       "        [0., 0., 0., 0., 0., 0., 0., 0., 0., 0.],\n",
       "        [0., 0., 0., 0., 0., 0., 0., 0., 0., 0.],\n",
       "        [0., 0., 0., 0., 0., 0., 0., 0., 0., 0.],\n",
       "        [0., 0., 0., 0., 0., 0., 0., 0., 0., 0.]])"
      ]
     },
     "execution_count": 55,
     "metadata": {},
     "output_type": "execute_result"
    }
   ],
   "source": [
    "x['tour_ohe'][:,:].reshape(-1,10)"
   ]
  },
  {
   "cell_type": "code",
   "execution_count": 58,
   "id": "5682bfd1-9763-4210-932e-b45648e13001",
   "metadata": {},
   "outputs": [
    {
     "data": {
      "text/plain": [
       "tensor(27.7828, grad_fn=<NegBackward0>)"
      ]
     },
     "execution_count": 58,
     "metadata": {},
     "output_type": "execute_result"
    }
   ],
   "source": [
    "CCE(torch.nan_to_num(out).permute(1,0,2).reshape(-1,10), x['tour_ohe'].reshape(-1,10))"
   ]
  },
  {
   "cell_type": "code",
   "execution_count": 59,
   "id": "1d6772d2-f3b1-4cc7-bedb-419caef9faaa",
   "metadata": {},
   "outputs": [
    {
     "data": {
      "text/plain": [
       "tensor(27.7828, grad_fn=<NegBackward0>)"
      ]
     },
     "execution_count": 59,
     "metadata": {},
     "output_type": "execute_result"
    }
   ],
   "source": [
    "CCE(torch.nan_to_num(out).permute(1,0,2)[:,:9].reshape(-1,10), x['tour_ohe'][:,:9].reshape(-1,10))"
   ]
  },
  {
   "cell_type": "code",
   "execution_count": 64,
   "id": "dca17518-69d6-4592-8426-d483edc35e07",
   "metadata": {},
   "outputs": [
    {
     "data": {
      "text/plain": [
       "{'data': tensor([[[0.0232, 0.4211],\n",
       "          [0.1957, 0.8028],\n",
       "          [0.3118, 0.7586],\n",
       "          [0.3434, 0.2265],\n",
       "          [0.0180, 0.2350],\n",
       "          [0.4982, 0.8003],\n",
       "          [0.3906, 0.3613],\n",
       "          [0.0000, 0.0000],\n",
       "          [0.0000, 0.0000],\n",
       "          [0.0000, 0.0000]],\n",
       " \n",
       "         [[0.1754, 0.6637],\n",
       "          [0.0403, 0.7430],\n",
       "          [0.7398, 0.0765],\n",
       "          [0.3803, 0.5323],\n",
       "          [0.0616, 0.0018],\n",
       "          [0.0000, 0.0000],\n",
       "          [0.0000, 0.0000],\n",
       "          [0.0000, 0.0000],\n",
       "          [0.0000, 0.0000],\n",
       "          [0.0000, 0.0000]]]),\n",
       " 'sequence_length': tensor([7., 5.]),\n",
       " 'tour_length': tensor([[1.2352e+08],\n",
       "         [1.6136e+08]], dtype=torch.float64),\n",
       " 'tour_ohe': tensor([[[1., 0., 0., 0., 0., 0., 0., 0., 0., 0.],\n",
       "          [0., 1., 0., 0., 0., 0., 0., 0., 0., 0.],\n",
       "          [0., 0., 1., 0., 0., 0., 0., 0., 0., 0.],\n",
       "          [0., 0., 0., 0., 0., 1., 0., 0., 0., 0.],\n",
       "          [0., 0., 0., 0., 0., 0., 1., 0., 0., 0.],\n",
       "          [0., 0., 0., 1., 0., 0., 0., 0., 0., 0.],\n",
       "          [0., 0., 0., 0., 1., 0., 0., 0., 0., 0.],\n",
       "          [0., 0., 0., 0., 0., 0., 0., 0., 0., 0.],\n",
       "          [0., 0., 0., 0., 0., 0., 0., 0., 0., 0.],\n",
       "          [0., 0., 0., 0., 0., 0., 0., 0., 0., 0.]],\n",
       " \n",
       "         [[1., 0., 0., 0., 0., 0., 0., 0., 0., 0.],\n",
       "          [0., 0., 0., 1., 0., 0., 0., 0., 0., 0.],\n",
       "          [0., 0., 1., 0., 0., 0., 0., 0., 0., 0.],\n",
       "          [0., 0., 0., 0., 1., 0., 0., 0., 0., 0.],\n",
       "          [0., 1., 0., 0., 0., 0., 0., 0., 0., 0.],\n",
       "          [0., 0., 0., 0., 0., 0., 0., 0., 0., 0.],\n",
       "          [0., 0., 0., 0., 0., 0., 0., 0., 0., 0.],\n",
       "          [0., 0., 0., 0., 0., 0., 0., 0., 0., 0.],\n",
       "          [0., 0., 0., 0., 0., 0., 0., 0., 0., 0.],\n",
       "          [0., 0., 0., 0., 0., 0., 0., 0., 0., 0.]]])}"
      ]
     },
     "execution_count": 64,
     "metadata": {},
     "output_type": "execute_result"
    }
   ],
   "source": [
    "x"
   ]
  },
  {
   "cell_type": "code",
   "execution_count": 15,
   "id": "e2263c38-6be6-4a0b-8788-d55030a473b4",
   "metadata": {},
   "outputs": [],
   "source": [
    "softmax = torch.nn.Softmax()\n",
    "packed = torch.nn.utils.rnn.pack_padded_sequence(torch.nan_to_num(out).permute(1,0,2), x[\"sequence_length\"].long(), batch_first=True)"
   ]
  },
  {
   "cell_type": "code",
   "execution_count": 16,
   "id": "d5373c98-8a2b-4bd6-926b-aa77cee5668d",
   "metadata": {},
   "outputs": [
    {
     "name": "stderr",
     "output_type": "stream",
     "text": [
      "/tmp/ipykernel_358054/1224284434.py:1: UserWarning: Implicit dimension choice for softmax has been deprecated. Change the call to include dim=X as an argument.\n",
      "  softmax(packed.data)\n"
     ]
    },
    {
     "data": {
      "text/plain": [
       "tensor([[0.0986, 0.1012, 0.1025, 0.1035, 0.1036, 0.1038, 0.1017, 0.1045, 0.0904,\n",
       "         0.0904],\n",
       "        [0.1135, 0.1176, 0.1148, 0.1153, 0.0898, 0.0898, 0.0898, 0.0898, 0.0898,\n",
       "         0.0898],\n",
       "        [0.1002, 0.1031, 0.1046, 0.1058, 0.1059, 0.1061, 0.1036, 0.0903, 0.0903,\n",
       "         0.0903],\n",
       "        [0.1237, 0.0894, 0.1249, 0.1256, 0.0894, 0.0894, 0.0894, 0.0894, 0.0894,\n",
       "         0.0894],\n",
       "        [0.1020, 0.1057, 0.1075, 0.1089, 0.1090, 0.0902, 0.1062, 0.0902, 0.0902,\n",
       "         0.0902],\n",
       "        [0.1448, 0.0885, 0.1471, 0.0885, 0.0885, 0.0885, 0.0885, 0.0885, 0.0885,\n",
       "         0.0885],\n",
       "        [0.1048, 0.1095, 0.1118, 0.1137, 0.0900, 0.0900, 0.1102, 0.0900, 0.0900,\n",
       "         0.0900],\n",
       "        [0.2320, 0.0853, 0.0853, 0.0853, 0.0853, 0.0853, 0.0853, 0.0853, 0.0853,\n",
       "         0.0853],\n",
       "        [0.1095, 0.1159, 0.1191, 0.0898, 0.0898, 0.0898, 0.1168, 0.0898, 0.0898,\n",
       "         0.0898],\n",
       "        [0.1179, 0.1275, 0.0894, 0.0894, 0.0894, 0.0894, 0.1290, 0.0894, 0.0894,\n",
       "         0.0894],\n",
       "        [0.1369, 0.1553, 0.0885, 0.0885, 0.0885, 0.0885, 0.0885, 0.0885, 0.0885,\n",
       "         0.0885],\n",
       "        [0.2320, 0.0853, 0.0853, 0.0853, 0.0853, 0.0853, 0.0853, 0.0853, 0.0853,\n",
       "         0.0853]], grad_fn=<SoftmaxBackward0>)"
      ]
     },
     "execution_count": 16,
     "metadata": {},
     "output_type": "execute_result"
    }
   ],
   "source": [
    "\n",
    "softmax(packed.data)"
   ]
  },
  {
   "cell_type": "code",
   "execution_count": 17,
   "id": "05d0c208-27fb-4b2a-bf87-1637aa39025a",
   "metadata": {},
   "outputs": [
    {
     "name": "stderr",
     "output_type": "stream",
     "text": [
      "/tmp/ipykernel_358054/1097714216.py:1: UserWarning: Implicit dimension choice for softmax has been deprecated. Change the call to include dim=X as an argument.\n",
      "  packed.data = softmax(packed.data)\n"
     ]
    },
    {
     "ename": "AttributeError",
     "evalue": "can't set attribute",
     "output_type": "error",
     "traceback": [
      "\u001b[0;31m---------------------------------------------------------------------------\u001b[0m",
      "\u001b[0;31mAttributeError\u001b[0m                            Traceback (most recent call last)",
      "Input \u001b[0;32mIn [17]\u001b[0m, in \u001b[0;36m<cell line: 1>\u001b[0;34m()\u001b[0m\n\u001b[0;32m----> 1\u001b[0m packed\u001b[38;5;241m.\u001b[39mdata \u001b[38;5;241m=\u001b[39m softmax(packed\u001b[38;5;241m.\u001b[39mdata)\n",
      "\u001b[0;31mAttributeError\u001b[0m: can't set attribute"
     ]
    }
   ],
   "source": [
    "packed.data = softmax(packed.data)"
   ]
  },
  {
   "cell_type": "code",
   "execution_count": 77,
   "id": "500b2a1c-1b81-48a3-829c-96b293635bd2",
   "metadata": {},
   "outputs": [
    {
     "data": {
      "text/plain": [
       "tensor(2.3042, grad_fn=<MeanBackward0>)"
      ]
     },
     "execution_count": 77,
     "metadata": {},
     "output_type": "execute_result"
    }
   ],
   "source": [
    "torch.mean(torch.sum(CCE(torch.nan_to_num(out).permute(1,0,2), x['tour_ohe']), axis=1)/x[\"sequence_length\"])"
   ]
  },
  {
   "cell_type": "code",
   "execution_count": 73,
   "id": "6db28e0a-ca9d-4898-b6d1-0259cb1847d1",
   "metadata": {},
   "outputs": [
    {
     "data": {
      "text/plain": [
       "tensor([2.4760, 2.3953, 2.3186, 2.3891, 2.2222, 2.1109, 2.3879, 2.0866, 2.3195,\n",
       "        2.3273, 2.3389, 2.3629], grad_fn=<PackPaddedSequenceBackward0>)"
      ]
     },
     "execution_count": 73,
     "metadata": {},
     "output_type": "execute_result"
    }
   ],
   "source": [
    "torch.nn.utils.rnn.pack_padded_sequence(CCE(torch.nan_to_num(out).permute(1,0,2), x['tour_ohe']), x[\"sequence_length\"].long(), batch_first=True).data"
   ]
  },
  {
   "cell_type": "code",
   "execution_count": 16,
   "id": "d4835d57-4283-4b63-baa4-1e9dd47002d8",
   "metadata": {},
   "outputs": [
    {
     "data": {
      "text/plain": [
       "torch.Size([2, 10, 11])"
      ]
     },
     "execution_count": 16,
     "metadata": {},
     "output_type": "execute_result"
    }
   ],
   "source": [
    "x['tour_ohe'].shape"
   ]
  },
  {
   "cell_type": "code",
   "execution_count": 15,
   "id": "139c532b-c514-425e-893c-36c57ff8f602",
   "metadata": {},
   "outputs": [],
   "source": [
    "a = torch.ones(3,3)"
   ]
  },
  {
   "cell_type": "code",
   "execution_count": 16,
   "id": "75026c74-a5b9-4a7e-a665-acd4cbb1b2c1",
   "metadata": {},
   "outputs": [],
   "source": [
    "a[np.arange(3),[2,1,0]] = 0"
   ]
  },
  {
   "cell_type": "code",
   "execution_count": 17,
   "id": "140082f4-a150-4949-b520-8ff2b85b4c02",
   "metadata": {},
   "outputs": [
    {
     "data": {
      "text/plain": [
       "tensor([[1., 1., 0.],\n",
       "        [1., 0., 1.],\n",
       "        [0., 1., 1.]])"
      ]
     },
     "execution_count": 17,
     "metadata": {},
     "output_type": "execute_result"
    }
   ],
   "source": [
    "a"
   ]
  },
  {
   "cell_type": "code",
   "execution_count": null,
   "id": "eb215a4f-c628-4178-ac74-3471a67e60aa",
   "metadata": {},
   "outputs": [],
   "source": []
  }
 ],
 "metadata": {
  "kernelspec": {
   "display_name": "Python 3 (ipykernel)",
   "language": "python",
   "name": "python3"
  },
  "language_info": {
   "codemirror_mode": {
    "name": "ipython",
    "version": 3
   },
   "file_extension": ".py",
   "mimetype": "text/x-python",
   "name": "python",
   "nbconvert_exporter": "python",
   "pygments_lexer": "ipython3",
   "version": "3.9.12"
  }
 },
 "nbformat": 4,
 "nbformat_minor": 5
}
